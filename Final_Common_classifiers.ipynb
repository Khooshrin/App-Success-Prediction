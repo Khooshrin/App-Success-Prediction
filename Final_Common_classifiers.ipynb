{
  "cells": [
    {
      "cell_type": "code",
      "execution_count": null,
      "id": "e1ccf496",
      "metadata": {
        "id": "e1ccf496"
      },
      "outputs": [],
      "source": [
        "#Multinomial Naive Bayes\n",
        "#Bernoulli's Naive Bayes\n",
        "#Gaussian Naive Bayes\n",
        "#Complement Naive Bayes\n",
        "#DT\n",
        "#kNN\n",
        "#SVM-Linear\n",
        "#SVM-Poly\n",
        "#SVM-RBF\n",
        "#RF\n",
        "#ExtraTrees\n",
        "#Bagging\n",
        "#AdaBoost\n",
        "#GradientBoosting\n",
        "#from_mod, anova_only, anova+smote, galgo+smote, only_smote, only_nmf, nmf+smote, galgo"
      ]
    },
    {
      "cell_type": "code",
      "execution_count": null,
      "id": "8bd6342e",
      "metadata": {
        "id": "8bd6342e"
      },
      "outputs": [],
      "source": [
        "import pandas as pd\n",
        "import numpy as np\n",
        "from sklearn.naive_bayes import MultinomialNB\n",
        "from sklearn.naive_bayes import BernoulliNB\n",
        "from sklearn.naive_bayes import GaussianNB\n",
        "from sklearn.naive_bayes import ComplementNB\n",
        "from sklearn.tree import DecisionTreeClassifier\n",
        "from sklearn.neighbors import KNeighborsClassifier\n",
        "from sklearn.svm import LinearSVC\n",
        "from sklearn.preprocessing import StandardScaler\n",
        "from sklearn.svm import SVC\n",
        "from sklearn.ensemble import ExtraTreesClassifier\n",
        "from sklearn.ensemble import RandomForestClassifier\n",
        "from sklearn.preprocessing import MinMaxScaler\n",
        "from sklearn.ensemble import BaggingClassifier\n",
        "from sklearn.ensemble import AdaBoostClassifier\n",
        "from sklearn.ensemble import GradientBoostingClassifier\n",
        "from sklearn.model_selection import KFold\n",
        "from sklearn.metrics import f1_score \n",
        "from sklearn.metrics import roc_curve\n",
        "from sklearn.metrics import auc\n",
        "from sklearn.multiclass import OneVsOneClassifier\n",
        "from sklearn.multiclass import OneVsRestClassifier\n",
        "from sklearn.model_selection import cross_val_score"
      ]
    },
    {
      "cell_type": "code",
      "execution_count": null,
      "id": "8z1DlqlMyJsv",
      "metadata": {
        "colab": {
          "base_uri": "https://localhost:8080/"
        },
        "id": "8z1DlqlMyJsv",
        "outputId": "da7ed479-032b-4a13-fa89-d98063e9c00c"
      },
      "outputs": [],
      "source": [
        "!pip install --upgrade --no-cache-dir gdown"
      ]
    },
    {
      "cell_type": "code",
      "execution_count": null,
      "id": "qhjEqBWByPfC",
      "metadata": {
        "colab": {
          "base_uri": "https://localhost:8080/"
        },
        "id": "qhjEqBWByPfC",
        "outputId": "f5fd10d5-a934-4a58-80bc-2e52ef5b8be2"
      },
      "outputs": [],
      "source": [
        "!gdown 1JCbIafkGc1DnKWtoXrBg9jyh5h3N6aR8"
      ]
    },
    {
      "cell_type": "code",
      "execution_count": null,
      "id": "04926e2f",
      "metadata": {
        "colab": {
          "base_uri": "https://localhost:8080/"
        },
        "id": "04926e2f",
        "outputId": "e992149a-2c53-498b-aa09-94ae0997bda1"
      },
      "outputs": [],
      "source": [
        "df = pd.read_csv('entertainment_with_albert_embedding_new.csv',header=None)"
      ]
    },
    {
      "cell_type": "code",
      "execution_count": null,
      "id": "714406ef",
      "metadata": {
        "id": "714406ef"
      },
      "outputs": [],
      "source": [
        "df = df.drop([0],axis=1)"
      ]
    },
    {
      "cell_type": "code",
      "execution_count": null,
      "id": "RNUagRwu12oh",
      "metadata": {
        "id": "RNUagRwu12oh"
      },
      "outputs": [],
      "source": [
        "df = df[df[41].notna()]"
      ]
    },
    {
      "cell_type": "code",
      "execution_count": null,
      "id": "55254605",
      "metadata": {
        "colab": {
          "base_uri": "https://localhost:8080/",
          "height": 1000
        },
        "id": "55254605",
        "outputId": "8c4669d0-ba37-4933-f5c3-18af0eb06eb8"
      },
      "outputs": [],
      "source": [
        "df"
      ]
    },
    {
      "cell_type": "code",
      "execution_count": null,
      "id": "mKkfxkj32fHR",
      "metadata": {
        "colab": {
          "base_uri": "https://localhost:8080/"
        },
        "id": "mKkfxkj32fHR",
        "outputId": "091bc18b-ad15-4345-e4a3-f46b8c0e01a2"
      },
      "outputs": [],
      "source": [
        "df.size/47"
      ]
    },
    {
      "cell_type": "code",
      "execution_count": null,
      "id": "5f452e45",
      "metadata": {
        "id": "5f452e45"
      },
      "outputs": [],
      "source": [
        "y = df.iloc[1:,40].to_numpy()\n",
        "X = df.iloc[1:,[4,5,7,41,45,46]].to_numpy()"
      ]
    },
    {
      "cell_type": "code",
      "execution_count": null,
      "id": "a14c8937",
      "metadata": {
        "colab": {
          "base_uri": "https://localhost:8080/"
        },
        "id": "a14c8937",
        "outputId": "4d846017-6604-4cea-dab1-4fe32118b09b"
      },
      "outputs": [],
      "source": [
        "y"
      ]
    },
    {
      "cell_type": "code",
      "execution_count": null,
      "id": "ko5iVnU6blvn",
      "metadata": {
        "id": "ko5iVnU6blvn"
      },
      "outputs": [],
      "source": [
        "train_desc=X[:,4]\n",
        "train_desc\n",
        "float_train_embeddings=[]\n",
        "for each_embedding in train_desc:\n",
        "  each_element=each_embedding.split()\n",
        "  each_element[0]=each_element[0][1:]\n",
        "  if len(each_element[0]) == 0:\n",
        "    each_element.remove('')\n",
        "  each_element[len(each_element)-1]=each_element[len(each_element)-1][0:len(each_element[len(each_element)-1])-1]\n",
        "  float_each_element=[abs(float(i)) for i in each_element if i!='']\n",
        "  float_train_embeddings.append(float_each_element)"
      ]
    },
    {
      "cell_type": "code",
      "execution_count": null,
      "id": "k4sH2giFdJHX",
      "metadata": {
        "id": "k4sH2giFdJHX"
      },
      "outputs": [],
      "source": [
        "X[:,4]=float_train_embeddings"
      ]
    },
    {
      "cell_type": "code",
      "execution_count": null,
      "id": "2fdZOs8QePDb",
      "metadata": {
        "id": "2fdZOs8QePDb"
      },
      "outputs": [],
      "source": [
        "train_desc=X[:,5]\n",
        "train_desc\n",
        "float_train_embeddings=[]\n",
        "for each_embedding in train_desc:\n",
        "  each_element=each_embedding.split()\n",
        "  each_element[0]=each_element[0][1:]\n",
        "  if len(each_element[0]) == 0:\n",
        "    each_element.remove('')\n",
        "  each_element[len(each_element)-1]=each_element[len(each_element)-1][0:len(each_element[len(each_element)-1])-1]\n",
        "  float_each_element=[abs(float(i)) for i in each_element if i!='']\n",
        "  float_train_embeddings.append(float_each_element)\n",
        "X[:,5]=float_train_embeddings"
      ]
    },
    {
      "cell_type": "code",
      "execution_count": null,
      "id": "NaImhqfcfhqE",
      "metadata": {
        "colab": {
          "base_uri": "https://localhost:8080/"
        },
        "id": "NaImhqfcfhqE",
        "outputId": "44d8ec46-25dc-49cc-c726-c42500924965"
      },
      "outputs": [],
      "source": [
        "X"
      ]
    },
    {
      "cell_type": "code",
      "execution_count": null,
      "id": "SeJgp8WOkF_w",
      "metadata": {
        "colab": {
          "base_uri": "https://localhost:8080/"
        },
        "id": "SeJgp8WOkF_w",
        "outputId": "52ff8b8a-683b-4676-fd33-d1fc74b975ea"
      },
      "outputs": [],
      "source": [
        "print(X[1:,4])"
      ]
    },
    {
      "cell_type": "code",
      "execution_count": null,
      "id": "E-QFjj3Xg0wh",
      "metadata": {
        "id": "E-QFjj3Xg0wh"
      },
      "outputs": [],
      "source": [
        "Xnew=[]\n",
        "index = 0\n",
        "for each_x in X[1:,:]:\n",
        "  currX=[]\n",
        "  currX.append(float(each_x[0]))\n",
        "  currX.append(float(each_x[1]))\n",
        "  currX.append(float(each_x[2]))\n",
        "  currX.append(float(each_x[3]))\n",
        "  # currX.append(each_x[4])\n",
        "  # currX.append(each_x[5])\n",
        "  desc=each_x[4]\n",
        "  summ=each_x[5]\n",
        "  for each_val in desc:\n",
        "    currX.append(each_val)\n",
        "  for each_val in summ:\n",
        "    currX.append(each_val)\n",
        "  Xnew.append(currX)"
      ]
    },
    {
      "cell_type": "code",
      "execution_count": null,
      "id": "uQ7LKl1LlKXm",
      "metadata": {
        "id": "uQ7LKl1LlKXm"
      },
      "outputs": [],
      "source": [
        "X=Xnew"
      ]
    },
    {
      "cell_type": "code",
      "execution_count": null,
      "id": "eGP8e78zANca",
      "metadata": {
        "colab": {
          "background_save": true,
          "base_uri": "https://localhost:8080/"
        },
        "id": "eGP8e78zANca",
        "outputId": "8870eb5b-d59c-4215-9c49-d815234b071d"
      },
      "outputs": [],
      "source": [
        "X"
      ]
    },
    {
      "cell_type": "code",
      "execution_count": 28,
      "id": "jSyV-BpblZ64",
      "metadata": {
        "id": "jSyV-BpblZ64"
      },
      "outputs": [],
      "source": [
        "y=y[1:]"
      ]
    },
    {
      "cell_type": "code",
      "execution_count": 31,
      "id": "6f8bf6e0",
      "metadata": {
        "id": "6f8bf6e0"
      },
      "outputs": [],
      "source": [
        "models = []\n",
        "m10 = OneVsOneClassifier(MultinomialNB()) \n",
        "models.append(m10)\n",
        "m11 = OneVsRestClassifier(MultinomialNB()) \n",
        "models.append(m11)\n",
        "m20 = OneVsOneClassifier(BernoulliNB()) \n",
        "models.append(m20)\n",
        "m21 = OneVsRestClassifier(BernoulliNB()) \n",
        "models.append(m21)\n",
        "m30 = OneVsOneClassifier(GaussianNB()) \n",
        "models.append(m30)\n",
        "m31 = OneVsRestClassifier(GaussianNB()) \n",
        "models.append(m31)\n",
        "m40 = OneVsOneClassifier(ComplementNB()) \n",
        "models.append(m40)\n",
        "m41 = OneVsRestClassifier(ComplementNB()) \n",
        "models.append(m41)\n",
        "m50 = OneVsOneClassifier(DecisionTreeClassifier()) \n",
        "models.append(m50)\n",
        "m51 = OneVsRestClassifier(DecisionTreeClassifier()) \n",
        "models.append(m51)\n",
        "m60 = OneVsOneClassifier(KNeighborsClassifier()) \n",
        "models.append(m60)\n",
        "m61 = OneVsRestClassifier(KNeighborsClassifier()) \n",
        "models.append(m61)\n",
        "m70 = OneVsOneClassifier(LinearSVC(max_iter=1000)) \n",
        "models.append(m70)\n",
        "m71 = OneVsRestClassifier(LinearSVC(max_iter=1000)) \n",
        "models.append(m71)\n",
        "m80 = OneVsOneClassifier(SVC(kernel='poly',max_iter=1000)) \n",
        "models.append(m80)\n",
        "m81 = OneVsRestClassifier(SVC(kernel='poly',max_iter=1000)) \n",
        "models.append(m81)\n",
        "m90 = OneVsOneClassifier(SVC(kernel='rbf',max_iter=1000)) \n",
        "models.append(m90)\n",
        "m91 = OneVsRestClassifier(SVC(kernel='rbf',max_iter=1000)) \n",
        "models.append(m91)\n",
        "# m100 = OneVsOneClassifier(SVC(kernel='gaussian',max_iter=1000)) \n",
        "# models.append(m100)\n",
        "# m101 = OneVsRestClassifier(SVC(kernel='gaussian',max_iter=1000)) \n",
        "# models.append(m101)\n",
        "m110 = OneVsOneClassifier(ExtraTreesClassifier())\n",
        "models.append(m110)\n",
        "m111 = OneVsRestClassifier(ExtraTreesClassifier())\n",
        "models.append(m111)\n",
        "m120 = OneVsOneClassifier(RandomForestClassifier()) \n",
        "models.append(m120)\n",
        "m121 = OneVsRestClassifier(RandomForestClassifier()) \n",
        "models.append(m121)\n",
        "m130 = OneVsOneClassifier(BaggingClassifier()) \n",
        "models.append(m130)\n",
        "m131 = OneVsRestClassifier(BaggingClassifier()) \n",
        "models.append(m131)\n",
        "m140 = OneVsOneClassifier(GradientBoostingClassifier()) \n",
        "models.append(m140)\n",
        "m141 = OneVsRestClassifier(GradientBoostingClassifier()) \n",
        "models.append(m141)\n",
        "m150 = OneVsOneClassifier(AdaBoostClassifier()) \n",
        "models.append(m150)\n",
        "m151 = OneVsRestClassifier(AdaBoostClassifier()) \n",
        "models.append(m151)"
      ]
    },
    {
      "cell_type": "code",
      "execution_count": null,
      "id": "8cc6ef50",
      "metadata": {
        "colab": {
          "base_uri": "https://localhost:8080/"
        },
        "id": "8cc6ef50",
        "outputId": "7777cf33-73d2-4629-d0f4-5b5da49523a3"
      },
      "outputs": [],
      "source": [
        "models"
      ]
    },
    {
      "cell_type": "code",
      "execution_count": null,
      "id": "a9f6c035",
      "metadata": {
        "id": "a9f6c035"
      },
      "outputs": [],
      "source": [
        "i = 0\n",
        "each_class_ovo = {}\n",
        "each_class_ovr = {}\n",
        "for model in models:\n",
        "    cv = KFold(n_splits=5, random_state=1, shuffle=True)\n",
        "    acc = cross_val_score(model, X, y,scoring = 'accuracy',cv=cv)\n",
        "    print(acc)\n",
        "#     auc = cross_val_score(model, X, y,scoring = 'roc_auc_ovr',cv=cv)\n",
        "    f1 = cross_val_score(model, X, y,scoring = 'f1_macro',cv=cv)\n",
        "    print(f1)\n",
        "    pre= cross_val_score(model, X, y,scoring = 'precision_macro',cv=cv)\n",
        "    print(pre)\n",
        "    rec= cross_val_score(model, X, y,scoring = 'recall_macro',cv=cv)\n",
        "    print(rec)\n",
        "    accuracy = acc.mean()*100\n",
        "#     roc = auc.mean()\n",
        "    f1_score = f1.mean()\n",
        "    precision = pre.mean()\n",
        "    recall = rec.mean()\n",
        "    entry = []\n",
        "    entry.append(accuracy)\n",
        "    entry.append(f1_score)\n",
        "    entry.append(precision)\n",
        "    entry.append(recall)\n",
        "    if i%2==0:\n",
        "        each_class_ovo[model] = entry\n",
        "    else:\n",
        "        each_class_ovr[model] = entry\n",
        "    i+=1\n",
        "    print(i)"
      ]
    },
    {
      "cell_type": "code",
      "execution_count": null,
      "id": "c663dcd0",
      "metadata": {
        "id": "c663dcd0"
      },
      "outputs": [],
      "source": [
        "df = pd.DataFrame.from_dict(each_class_ovo, orient ='index')"
      ]
    },
    {
      "cell_type": "code",
      "execution_count": null,
      "id": "bf90bbdc",
      "metadata": {
        "colab": {
          "base_uri": "https://localhost:8080/",
          "height": 488
        },
        "id": "bf90bbdc",
        "outputId": "ff3be901-434c-4ec0-acf5-7fa1c176191f"
      },
      "outputs": [],
      "source": [
        "df"
      ]
    },
    {
      "cell_type": "code",
      "execution_count": null,
      "id": "97752463",
      "metadata": {
        "id": "97752463"
      },
      "outputs": [],
      "source": [
        "df2 = pd.DataFrame.from_dict(each_class_ovr, orient ='index')"
      ]
    },
    {
      "cell_type": "code",
      "execution_count": null,
      "id": "6cf2a245",
      "metadata": {
        "id": "6cf2a245"
      },
      "outputs": [],
      "source": [
        "frames = [df, df2]\n",
        "result2 = pd.concat(frames)"
      ]
    },
    {
      "cell_type": "code",
      "execution_count": null,
      "id": "a65fac9e",
      "metadata": {
        "id": "a65fac9e",
        "outputId": "be29dcb4-eeda-45e7-e8d4-d8e8af3b29fa"
      },
      "outputs": [],
      "source": [
        "result2"
      ]
    },
    {
      "cell_type": "code",
      "execution_count": null,
      "id": "b12f24d7",
      "metadata": {
        "id": "b12f24d7"
      },
      "outputs": [],
      "source": [
        "result2.to_csv('entertainment_final.csv')"
      ]
    }
  ],
  "metadata": {
    "colab": {
      "provenance": []
    },
    "kernelspec": {
      "display_name": "Python 3.9 (tensorflow3)",
      "language": "python",
      "name": "tensorflow3"
    },
    "language_info": {
      "codemirror_mode": {
        "name": "ipython",
        "version": 3
      },
      "file_extension": ".py",
      "mimetype": "text/x-python",
      "name": "python",
      "nbconvert_exporter": "python",
      "pygments_lexer": "ipython3",
      "version": "3.9.13"
    },
    "toc": {
      "base_numbering": 1,
      "nav_menu": {},
      "number_sections": true,
      "sideBar": true,
      "skip_h1_title": false,
      "title_cell": "Table of Contents",
      "title_sidebar": "Contents",
      "toc_cell": false,
      "toc_position": {},
      "toc_section_display": true,
      "toc_window_display": false
    }
  },
  "nbformat": 4,
  "nbformat_minor": 5
}
